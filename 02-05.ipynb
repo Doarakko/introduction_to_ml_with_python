{
 "cells": [
  {
   "cell_type": "markdown",
   "metadata": {},
   "source": [
    "# 2章 教師あり学習\n",
    "## 2.3 教師あり学習とアルゴリズム\n",
    "### 2.3.5 決定木"
   ]
  },
  {
   "cell_type": "code",
   "execution_count": 33,
   "metadata": {},
   "outputs": [],
   "source": [
    "import os\n",
    "import numpy as np\n",
    "from sklearn.tree import DecisionTreeClassifier\n",
    "from sklearn.linear_model import LinearRegression\n",
    "from sklearn.datasets import load_breast_cancer\n",
    "from sklearn.model_selection import train_test_split\n",
    "from sklearn.tree import export_graphviz\n",
    "from sklearn.tree import DecisionTreeRegressor\n",
    "import graphviz\n",
    "\n",
    "from preamble import *"
   ]
  },
  {
   "cell_type": "code",
   "execution_count": 2,
   "metadata": {},
   "outputs": [
    {
     "data": {
      "image/png": "[encoded data removed]",
      "text/plain": [
       "<Figure size 432x288 with 1 Axes>"
      ]
     },
     "metadata": {},
     "output_type": "display_data"
    }
   ],
   "source": [
    "mglearn.plots.plot_animal_tree()"
   ]
  },
  {
   "cell_type": "code",
   "execution_count": 5,
   "metadata": {},
   "outputs": [],
   "source": [
    "cancer = load_breast_cancer()\n",
    "X_train, X_test, y_train, y_test = train_test_split(cancer.data, cancer.target, stratify=cancer.target, random_state=12)"
   ]
  },
  {
   "cell_type": "code",
   "execution_count": 6,
   "metadata": {},
   "outputs": [
    {
     "name": "stdout",
     "output_type": "stream",
     "text": [
      "train score:  1.0\n",
      "test score 0.8951048951048951\n"
     ]
    }
   ],
   "source": [
    "tree = DecisionTreeClassifier(random_state=29)\n",
    "tree.fit(X_train, y_train)\n",
    "\n",
    "print('train score: ', tree.score(X_train, y_train))\n",
    "print('test score', tree.score(X_test, y_test))"
   ]
  },
  {
   "cell_type": "markdown",
   "metadata": {},
   "source": [
    "木の深さを制限して過学習を防ぐ"
   ]
  },
  {
   "cell_type": "code",
   "execution_count": 14,
   "metadata": {},
   "outputs": [
    {
     "name": "stdout",
     "output_type": "stream",
     "text": [
      "train score:  0.9953051643192489\n",
      "test score 0.8951048951048951\n"
     ]
    }
   ],
   "source": [
    "tree = DecisionTreeClassifier(max_depth=5, random_state=29)\n",
    "tree.fit(X_train, y_train)\n",
    "\n",
    "print('train score: ', tree.score(X_train, y_train))\n",
    "print('test score', tree.score(X_test, y_test))"
   ]
  },
  {
   "cell_type": "markdown",
   "metadata": {},
   "source": [
    "#### 2.3.5.3 決定木の解析 "
   ]
  },
  {
   "cell_type": "code",
   "execution_count": 17,
   "metadata": {},
   "outputs": [],
   "source": [
    "export_graphviz(\n",
    "    tree, \n",
    "    out_file='tree.dot', \n",
    "    class_names = ['malignant', 'benign'], \n",
    "    feature_names=cancer.feature_names, \n",
    "    impurity=False, \n",
    "    filled=True\n",
    ")"
   ]
  },
  {
   "cell_type": "code",
   "execution_count": 19,
   "metadata": {},
   "outputs": [
    {
     "data": {
      "image/svg+xml": [
       "<?xml version=\"1.0\" encoding=\"UTF-8\" standalone=\"no\"?>\n",
       "<!DOCTYPE svg PUBLIC \"-//W3C//DTD SVG 1.1//EN\"\n",
       " \"http://www.w3.org/Graphics/SVG/1.1/DTD/svg11.dtd\">\n",
       "<!-- Generated by graphviz version 2.40.1 (20161225.0304)\n",
       " -->\n",
       "<!-- Title: Tree Pages: 1 -->\n",
       "<svg width=\"1566pt\" height=\"558pt\"\n",
       " viewBox=\"0.00 0.00 1566.21 558.00\" xmlns=\"http://www.w3.org/2000/svg\" xmlns:xlink=\"http://www.w3.org/1999/xlink\">\n",
       "<g id=\"graph0\" class=\"graph\" transform=\"scale(1 1) rotate(0) translate(4 554)\">\n",
       "<title>Tree</title>\n",
       "<polygon fill=\"#ffffff\" stroke=\"transparent\" points=\"-4,4 -4,-554 1562.2129,-554 1562.2129,4 -4,4\"/>\n",
       "<!-- 0 -->\n",
       "<g id=\"node1\" class=\"node\">\n",
       "<title>0</title>\n",
       "<polygon fill=\"#399de5\" fill-opacity=\"0.403922\" stroke=\"#000000\" points=\"1049.5914,-550 860.6214,-550 860.6214,-486 1049.5914,-486 1049.5914,-550\"/>\n",
       "<text text-anchor=\"middle\" x=\"955.1064\" y=\"-534.8\" font-family=\"Times,serif\" font-size=\"14.00\" fill=\"#000000\">worst concave points &lt;= 0.136</text>\n",
       "<text text-anchor=\"middle\" x=\"955.1064\" y=\"-520.8\" font-family=\"Times,serif\" font-size=\"14.00\" fill=\"#000000\">samples = 426</text>\n",
       "<text text-anchor=\"middle\" x=\"955.1064\" y=\"-506.8\" font-family=\"Times,serif\" font-size=\"14.00\" fill=\"#000000\">value = [159, 267]</text>\n",
       "<text text-anchor=\"middle\" x=\"955.1064\" y=\"-492.8\" font-family=\"Times,serif\" font-size=\"14.00\" fill=\"#000000\">class = benign</text>\n",
       "</g>\n",
       "<!-- 1 -->\n",
       "<g id=\"node2\" class=\"node\">\n",
       "<title>1</title>\n",
       "<polygon fill=\"#399de5\" fill-opacity=\"0.929412\" stroke=\"#000000\" points=\"876.8117,-450 741.4012,-450 741.4012,-386 876.8117,-386 876.8117,-450\"/>\n",
       "<text text-anchor=\"middle\" x=\"809.1064\" y=\"-434.8\" font-family=\"Times,serif\" font-size=\"14.00\" fill=\"#000000\">worst area &lt;= 957.45</text>\n",
       "<text text-anchor=\"middle\" x=\"809.1064\" y=\"-420.8\" font-family=\"Times,serif\" font-size=\"14.00\" fill=\"#000000\">samples = 275</text>\n",
       "<text text-anchor=\"middle\" x=\"809.1064\" y=\"-406.8\" font-family=\"Times,serif\" font-size=\"14.00\" fill=\"#000000\">value = [18, 257]</text>\n",
       "<text text-anchor=\"middle\" x=\"809.1064\" y=\"-392.8\" font-family=\"Times,serif\" font-size=\"14.00\" fill=\"#000000\">class = benign</text>\n",
       "</g>\n",
       "<!-- 0&#45;&gt;1 -->\n",
       "<g id=\"edge1\" class=\"edge\">\n",
       "<title>0&#45;&gt;1</title>\n",
       "<path fill=\"none\" stroke=\"#000000\" d=\"M908.1075,-485.8089C894.1707,-476.2632 878.7795,-465.7213 864.3698,-455.8516\"/>\n",
       "<polygon fill=\"#000000\" stroke=\"#000000\" points=\"866.2455,-452.8941 856.0174,-450.1308 862.2898,-458.6693 866.2455,-452.8941\"/>\n",
       "<text text-anchor=\"middle\" x=\"860.6125\" y=\"-470.5048\" font-family=\"Times,serif\" font-size=\"14.00\" fill=\"#000000\">True</text>\n",
       "</g>\n",
       "<!-- 18 -->\n",
       "<g id=\"node19\" class=\"node\">\n",
       "<title>18</title>\n",
       "<polygon fill=\"#e58139\" fill-opacity=\"0.929412\" stroke=\"#000000\" points=\"1151.4017,-450 1026.8112,-450 1026.8112,-386 1151.4017,-386 1151.4017,-450\"/>\n",
       "<text text-anchor=\"middle\" x=\"1089.1064\" y=\"-434.8\" font-family=\"Times,serif\" font-size=\"14.00\" fill=\"#000000\">area error &lt;= 16.66</text>\n",
       "<text text-anchor=\"middle\" x=\"1089.1064\" y=\"-420.8\" font-family=\"Times,serif\" font-size=\"14.00\" fill=\"#000000\">samples = 151</text>\n",
       "<text text-anchor=\"middle\" x=\"1089.1064\" y=\"-406.8\" font-family=\"Times,serif\" font-size=\"14.00\" fill=\"#000000\">value = [141, 10]</text>\n",
       "<text text-anchor=\"middle\" x=\"1089.1064\" y=\"-392.8\" font-family=\"Times,serif\" font-size=\"14.00\" fill=\"#000000\">class = malignant</text>\n",
       "</g>\n",
       "<!-- 0&#45;&gt;18 -->\n",
       "<g id=\"edge18\" class=\"edge\">\n",
       "<title>0&#45;&gt;18</title>\n",
       "<path fill=\"none\" stroke=\"#000000\" d=\"M998.2425,-485.8089C1010.9142,-476.3524 1024.896,-465.9182 1038.0143,-456.1285\"/>\n",
       "<polygon fill=\"#000000\" stroke=\"#000000\" points=\"1040.1302,-458.9167 1046.0512,-450.1308 1035.9436,-453.3066 1040.1302,-458.9167\"/>\n",
       "<text text-anchor=\"middle\" x=\"1042.4565\" y=\"-470.671\" font-family=\"Times,serif\" font-size=\"14.00\" fill=\"#000000\">False</text>\n",
       "</g>\n",
       "<!-- 2 -->\n",
       "<g id=\"node3\" class=\"node\">\n",
       "<title>2</title>\n",
       "<polygon fill=\"#399de5\" fill-opacity=\"0.980392\" stroke=\"#000000\" points=\"613.4017,-350 488.8112,-350 488.8112,-286 613.4017,-286 613.4017,-350\"/>\n",
       "<text text-anchor=\"middle\" x=\"551.1064\" y=\"-334.8\" font-family=\"Times,serif\" font-size=\"14.00\" fill=\"#000000\">area error &lt;= 45.17</text>\n",
       "<text text-anchor=\"middle\" x=\"551.1064\" y=\"-320.8\" font-family=\"Times,serif\" font-size=\"14.00\" fill=\"#000000\">samples = 260</text>\n",
       "<text text-anchor=\"middle\" x=\"551.1064\" y=\"-306.8\" font-family=\"Times,serif\" font-size=\"14.00\" fill=\"#000000\">value = [5, 255]</text>\n",
       "<text text-anchor=\"middle\" x=\"551.1064\" y=\"-292.8\" font-family=\"Times,serif\" font-size=\"14.00\" fill=\"#000000\">class = benign</text>\n",
       "</g>\n",
       "<!-- 1&#45;&gt;2 -->\n",
       "<g id=\"edge2\" class=\"edge\">\n",
       "<title>1&#45;&gt;2</title>\n",
       "<path fill=\"none\" stroke=\"#000000\" d=\"M741.32,-391.7262C705.0013,-377.6492 660.2554,-360.3058 623.2888,-345.9776\"/>\n",
       "<polygon fill=\"#000000\" stroke=\"#000000\" points=\"624.1655,-342.5638 613.5765,-342.2132 621.6357,-349.0907 624.1655,-342.5638\"/>\n",
       "</g>\n",
       "<!-- 13 -->\n",
       "<g id=\"node14\" class=\"node\">\n",
       "<title>13</title>\n",
       "<polygon fill=\"#e58139\" fill-opacity=\"0.847059\" stroke=\"#000000\" points=\"910.5845,-350 707.6283,-350 707.6283,-286 910.5845,-286 910.5845,-350\"/>\n",
       "<text text-anchor=\"middle\" x=\"809.1064\" y=\"-334.8\" font-family=\"Times,serif\" font-size=\"14.00\" fill=\"#000000\">worst fractal dimension &lt;= 0.065</text>\n",
       "<text text-anchor=\"middle\" x=\"809.1064\" y=\"-320.8\" font-family=\"Times,serif\" font-size=\"14.00\" fill=\"#000000\">samples = 15</text>\n",
       "<text text-anchor=\"middle\" x=\"809.1064\" y=\"-306.8\" font-family=\"Times,serif\" font-size=\"14.00\" fill=\"#000000\">value = [13, 2]</text>\n",
       "<text text-anchor=\"middle\" x=\"809.1064\" y=\"-292.8\" font-family=\"Times,serif\" font-size=\"14.00\" fill=\"#000000\">class = malignant</text>\n",
       "</g>\n",
       "<!-- 1&#45;&gt;13 -->\n",
       "<g id=\"edge13\" class=\"edge\">\n",
       "<title>1&#45;&gt;13</title>\n",
       "<path fill=\"none\" stroke=\"#000000\" d=\"M809.1064,-385.8089C809.1064,-377.6906 809.1064,-368.8517 809.1064,-360.3186\"/>\n",
       "<polygon fill=\"#000000\" stroke=\"#000000\" points=\"812.6065,-360.1307 809.1064,-350.1308 805.6065,-360.1308 812.6065,-360.1307\"/>\n",
       "</g>\n",
       "<!-- 3 -->\n",
       "<g id=\"node4\" class=\"node\">\n",
       "<title>3</title>\n",
       "<polygon fill=\"#399de5\" fill-opacity=\"0.992157\" stroke=\"#000000\" points=\"434.123,-250 276.0898,-250 276.0898,-186 434.123,-186 434.123,-250\"/>\n",
       "<text text-anchor=\"middle\" x=\"355.1064\" y=\"-234.8\" font-family=\"Times,serif\" font-size=\"14.00\" fill=\"#000000\">mean concavity &lt;= 0.116</text>\n",
       "<text text-anchor=\"middle\" x=\"355.1064\" y=\"-220.8\" font-family=\"Times,serif\" font-size=\"14.00\" fill=\"#000000\">samples = 253</text>\n",
       "<text text-anchor=\"middle\" x=\"355.1064\" y=\"-206.8\" font-family=\"Times,serif\" font-size=\"14.00\" fill=\"#000000\">value = [2, 251]</text>\n",
       "<text text-anchor=\"middle\" x=\"355.1064\" y=\"-192.8\" font-family=\"Times,serif\" font-size=\"14.00\" fill=\"#000000\">class = benign</text>\n",
       "</g>\n",
       "<!-- 2&#45;&gt;3 -->\n",
       "<g id=\"edge3\" class=\"edge\">\n",
       "<title>2&#45;&gt;3</title>\n",
       "<path fill=\"none\" stroke=\"#000000\" d=\"M488.8215,-286.222C469.186,-276.2038 447.3344,-265.0551 427.0815,-254.722\"/>\n",
       "<polygon fill=\"#000000\" stroke=\"#000000\" points=\"428.4006,-251.4658 417.9023,-250.0387 425.2193,-257.7011 428.4006,-251.4658\"/>\n",
       "</g>\n",
       "<!-- 10 -->\n",
       "<g id=\"node11\" class=\"node\">\n",
       "<title>10</title>\n",
       "<polygon fill=\"#399de5\" fill-opacity=\"0.250980\" stroke=\"#000000\" points=\"638.7465,-250 463.4664,-250 463.4664,-186 638.7465,-186 638.7465,-250\"/>\n",
       "<text text-anchor=\"middle\" x=\"551.1064\" y=\"-234.8\" font-family=\"Times,serif\" font-size=\"14.00\" fill=\"#000000\">mean compactness &lt;= 0.063</text>\n",
       "<text text-anchor=\"middle\" x=\"551.1064\" y=\"-220.8\" font-family=\"Times,serif\" font-size=\"14.00\" fill=\"#000000\">samples = 7</text>\n",
       "<text text-anchor=\"middle\" x=\"551.1064\" y=\"-206.8\" font-family=\"Times,serif\" font-size=\"14.00\" fill=\"#000000\">value = [3, 4]</text>\n",
       "<text text-anchor=\"middle\" x=\"551.1064\" y=\"-192.8\" font-family=\"Times,serif\" font-size=\"14.00\" fill=\"#000000\">class = benign</text>\n",
       "</g>\n",
       "<!-- 2&#45;&gt;10 -->\n",
       "<g id=\"edge10\" class=\"edge\">\n",
       "<title>2&#45;&gt;10</title>\n",
       "<path fill=\"none\" stroke=\"#000000\" d=\"M551.1064,-285.8089C551.1064,-277.6906 551.1064,-268.8517 551.1064,-260.3186\"/>\n",
       "<polygon fill=\"#000000\" stroke=\"#000000\" points=\"554.6065,-260.1307 551.1064,-250.1308 547.6065,-260.1308 554.6065,-260.1307\"/>\n",
       "</g>\n",
       "<!-- 4 -->\n",
       "<g id=\"node5\" class=\"node\">\n",
       "<title>4</title>\n",
       "<polygon fill=\"#399de5\" fill-opacity=\"0.996078\" stroke=\"#000000\" points=\"243.1743,-150 45.0386,-150 45.0386,-86 243.1743,-86 243.1743,-150\"/>\n",
       "<text text-anchor=\"middle\" x=\"144.1064\" y=\"-134.8\" font-family=\"Times,serif\" font-size=\"14.00\" fill=\"#000000\">fractal dimension error &lt;= 0.001</text>\n",
       "<text text-anchor=\"middle\" x=\"144.1064\" y=\"-120.8\" font-family=\"Times,serif\" font-size=\"14.00\" fill=\"#000000\">samples = 248</text>\n",
       "<text text-anchor=\"middle\" x=\"144.1064\" y=\"-106.8\" font-family=\"Times,serif\" font-size=\"14.00\" fill=\"#000000\">value = [1, 247]</text>\n",
       "<text text-anchor=\"middle\" x=\"144.1064\" y=\"-92.8\" font-family=\"Times,serif\" font-size=\"14.00\" fill=\"#000000\">class = benign</text>\n",
       "</g>\n",
       "<!-- 3&#45;&gt;4 -->\n",
       "<g id=\"edge4\" class=\"edge\">\n",
       "<title>3&#45;&gt;4</title>\n",
       "<path fill=\"none\" stroke=\"#000000\" d=\"M287.4741,-185.9467C266.2741,-175.8993 242.7218,-164.7372 220.935,-154.4116\"/>\n",
       "<polygon fill=\"#000000\" stroke=\"#000000\" points=\"222.2533,-151.1633 211.7178,-150.0433 219.2554,-157.4888 222.2533,-151.1633\"/>\n",
       "</g>\n",
       "<!-- 7 -->\n",
       "<g id=\"node8\" class=\"node\">\n",
       "<title>7</title>\n",
       "<polygon fill=\"#399de5\" fill-opacity=\"0.749020\" stroke=\"#000000\" points=\"448.7981,-150 261.4148,-150 261.4148,-86 448.7981,-86 448.7981,-150\"/>\n",
       "<text text-anchor=\"middle\" x=\"355.1064\" y=\"-134.8\" font-family=\"Times,serif\" font-size=\"14.00\" fill=\"#000000\">mean concave points &lt;= 0.049</text>\n",
       "<text text-anchor=\"middle\" x=\"355.1064\" y=\"-120.8\" font-family=\"Times,serif\" font-size=\"14.00\" fill=\"#000000\">samples = 5</text>\n",
       "<text text-anchor=\"middle\" x=\"355.1064\" y=\"-106.8\" font-family=\"Times,serif\" font-size=\"14.00\" fill=\"#000000\">value = [1, 4]</text>\n",
       "<text text-anchor=\"middle\" x=\"355.1064\" y=\"-92.8\" font-family=\"Times,serif\" font-size=\"14.00\" fill=\"#000000\">class = benign</text>\n",
       "</g>\n",
       "<!-- 3&#45;&gt;7 -->\n",
       "<g id=\"edge7\" class=\"edge\">\n",
       "<title>3&#45;&gt;7</title>\n",
       "<path fill=\"none\" stroke=\"#000000\" d=\"M355.1064,-185.8089C355.1064,-177.6906 355.1064,-168.8517 355.1064,-160.3186\"/>\n",
       "<polygon fill=\"#000000\" stroke=\"#000000\" points=\"358.6065,-160.1307 355.1064,-150.1308 351.6065,-160.1308 358.6065,-160.1307\"/>\n",
       "</g>\n",
       "<!-- 5 -->\n",
       "<g id=\"node6\" class=\"node\">\n",
       "<title>5</title>\n",
       "<polygon fill=\"#399de5\" fill-opacity=\"0.831373\" stroke=\"#000000\" points=\"96.3196,-50 -.1067,-50 -.1067,0 96.3196,0 96.3196,-50\"/>\n",
       "<text text-anchor=\"middle\" x=\"48.1064\" y=\"-34.8\" font-family=\"Times,serif\" font-size=\"14.00\" fill=\"#000000\">samples = 7</text>\n",
       "<text text-anchor=\"middle\" x=\"48.1064\" y=\"-20.8\" font-family=\"Times,serif\" font-size=\"14.00\" fill=\"#000000\">value = [1, 6]</text>\n",
       "<text text-anchor=\"middle\" x=\"48.1064\" y=\"-6.8\" font-family=\"Times,serif\" font-size=\"14.00\" fill=\"#000000\">class = benign</text>\n",
       "</g>\n",
       "<!-- 4&#45;&gt;5 -->\n",
       "<g id=\"edge5\" class=\"edge\">\n",
       "<title>4&#45;&gt;5</title>\n",
       "<path fill=\"none\" stroke=\"#000000\" d=\"M111.0687,-85.9947C101.3874,-76.6159 90.8038,-66.363 81.1237,-56.9855\"/>\n",
       "<polygon fill=\"#000000\" stroke=\"#000000\" points=\"83.5451,-54.4582 73.9274,-50.014 78.6745,-59.4859 83.5451,-54.4582\"/>\n",
       "</g>\n",
       "<!-- 6 -->\n",
       "<g id=\"node7\" class=\"node\">\n",
       "<title>6</title>\n",
       "<polygon fill=\"#399de5\" stroke=\"#000000\" points=\"219.6446,-50 114.5683,-50 114.5683,0 219.6446,0 219.6446,-50\"/>\n",
       "<text text-anchor=\"middle\" x=\"167.1064\" y=\"-34.8\" font-family=\"Times,serif\" font-size=\"14.00\" fill=\"#000000\">samples = 241</text>\n",
       "<text text-anchor=\"middle\" x=\"167.1064\" y=\"-20.8\" font-family=\"Times,serif\" font-size=\"14.00\" fill=\"#000000\">value = [0, 241]</text>\n",
       "<text text-anchor=\"middle\" x=\"167.1064\" y=\"-6.8\" font-family=\"Times,serif\" font-size=\"14.00\" fill=\"#000000\">class = benign</text>\n",
       "</g>\n",
       "<!-- 4&#45;&gt;6 -->\n",
       "<g id=\"edge6\" class=\"edge\">\n",
       "<title>4&#45;&gt;6</title>\n",
       "<path fill=\"none\" stroke=\"#000000\" d=\"M152.0217,-85.9947C154.1138,-77.5354 156.3818,-68.365 158.5081,-59.7672\"/>\n",
       "<polygon fill=\"#000000\" stroke=\"#000000\" points=\"161.917,-60.5619 160.9202,-50.014 155.1217,-58.8813 161.917,-60.5619\"/>\n",
       "</g>\n",
       "<!-- 8 -->\n",
       "<g id=\"node9\" class=\"node\">\n",
       "<title>8</title>\n",
       "<polygon fill=\"#399de5\" stroke=\"#000000\" points=\"380.3196,-50 283.8933,-50 283.8933,0 380.3196,0 380.3196,-50\"/>\n",
       "<text text-anchor=\"middle\" x=\"332.1064\" y=\"-34.8\" font-family=\"Times,serif\" font-size=\"14.00\" fill=\"#000000\">samples = 4</text>\n",
       "<text text-anchor=\"middle\" x=\"332.1064\" y=\"-20.8\" font-family=\"Times,serif\" font-size=\"14.00\" fill=\"#000000\">value = [0, 4]</text>\n",
       "<text text-anchor=\"middle\" x=\"332.1064\" y=\"-6.8\" font-family=\"Times,serif\" font-size=\"14.00\" fill=\"#000000\">class = benign</text>\n",
       "</g>\n",
       "<!-- 7&#45;&gt;8 -->\n",
       "<g id=\"edge8\" class=\"edge\">\n",
       "<title>7&#45;&gt;8</title>\n",
       "<path fill=\"none\" stroke=\"#000000\" d=\"M347.1912,-85.9947C345.0991,-77.5354 342.8311,-68.365 340.7048,-59.7672\"/>\n",
       "<polygon fill=\"#000000\" stroke=\"#000000\" points=\"344.0912,-58.8813 338.2927,-50.014 337.2959,-60.5619 344.0912,-58.8813\"/>\n",
       "</g>\n",
       "<!-- 9 -->\n",
       "<g id=\"node10\" class=\"node\">\n",
       "<title>9</title>\n",
       "<polygon fill=\"#e58139\" stroke=\"#000000\" points=\"512.2022,-50 398.0107,-50 398.0107,0 512.2022,0 512.2022,-50\"/>\n",
       "<text text-anchor=\"middle\" x=\"455.1064\" y=\"-34.8\" font-family=\"Times,serif\" font-size=\"14.00\" fill=\"#000000\">samples = 1</text>\n",
       "<text text-anchor=\"middle\" x=\"455.1064\" y=\"-20.8\" font-family=\"Times,serif\" font-size=\"14.00\" fill=\"#000000\">value = [1, 0]</text>\n",
       "<text text-anchor=\"middle\" x=\"455.1064\" y=\"-6.8\" font-family=\"Times,serif\" font-size=\"14.00\" fill=\"#000000\">class = malignant</text>\n",
       "</g>\n",
       "<!-- 7&#45;&gt;9 -->\n",
       "<g id=\"edge9\" class=\"edge\">\n",
       "<title>7&#45;&gt;9</title>\n",
       "<path fill=\"none\" stroke=\"#000000\" d=\"M389.5208,-85.9947C399.6055,-76.6159 410.6301,-66.363 420.7134,-56.9855\"/>\n",
       "<polygon fill=\"#000000\" stroke=\"#000000\" points=\"423.2705,-59.3871 428.2096,-50.014 418.5033,-54.2612 423.2705,-59.3871\"/>\n",
       "</g>\n",
       "<!-- 11 -->\n",
       "<g id=\"node12\" class=\"node\">\n",
       "<title>11</title>\n",
       "<polygon fill=\"#e58139\" stroke=\"#000000\" points=\"581.2022,-143 467.0107,-143 467.0107,-93 581.2022,-93 581.2022,-143\"/>\n",
       "<text text-anchor=\"middle\" x=\"524.1064\" y=\"-127.8\" font-family=\"Times,serif\" font-size=\"14.00\" fill=\"#000000\">samples = 3</text>\n",
       "<text text-anchor=\"middle\" x=\"524.1064\" y=\"-113.8\" font-family=\"Times,serif\" font-size=\"14.00\" fill=\"#000000\">value = [3, 0]</text>\n",
       "<text text-anchor=\"middle\" x=\"524.1064\" y=\"-99.8\" font-family=\"Times,serif\" font-size=\"14.00\" fill=\"#000000\">class = malignant</text>\n",
       "</g>\n",
       "<!-- 10&#45;&gt;11 -->\n",
       "<g id=\"edge11\" class=\"edge\">\n",
       "<title>10&#45;&gt;11</title>\n",
       "<path fill=\"none\" stroke=\"#000000\" d=\"M542.4149,-185.8089C539.5877,-175.338 536.437,-163.6685 533.5571,-153.0025\"/>\n",
       "<polygon fill=\"#000000\" stroke=\"#000000\" points=\"536.8842,-151.8975 530.8984,-143.1555 530.1262,-153.7222 536.8842,-151.8975\"/>\n",
       "</g>\n",
       "<!-- 12 -->\n",
       "<g id=\"node13\" class=\"node\">\n",
       "<title>12</title>\n",
       "<polygon fill=\"#399de5\" stroke=\"#000000\" points=\"695.3196,-143 598.8933,-143 598.8933,-93 695.3196,-93 695.3196,-143\"/>\n",
       "<text text-anchor=\"middle\" x=\"647.1064\" y=\"-127.8\" font-family=\"Times,serif\" font-size=\"14.00\" fill=\"#000000\">samples = 4</text>\n",
       "<text text-anchor=\"middle\" x=\"647.1064\" y=\"-113.8\" font-family=\"Times,serif\" font-size=\"14.00\" fill=\"#000000\">value = [0, 4]</text>\n",
       "<text text-anchor=\"middle\" x=\"647.1064\" y=\"-99.8\" font-family=\"Times,serif\" font-size=\"14.00\" fill=\"#000000\">class = benign</text>\n",
       "</g>\n",
       "<!-- 10&#45;&gt;12 -->\n",
       "<g id=\"edge12\" class=\"edge\">\n",
       "<title>10&#45;&gt;12</title>\n",
       "<path fill=\"none\" stroke=\"#000000\" d=\"M582.0099,-185.8089C592.891,-174.4745 605.1203,-161.7355 616.0167,-150.3851\"/>\n",
       "<polygon fill=\"#000000\" stroke=\"#000000\" points=\"618.5566,-152.7933 622.9571,-143.1555 613.5069,-147.9456 618.5566,-152.7933\"/>\n",
       "</g>\n",
       "<!-- 14 -->\n",
       "<g id=\"node15\" class=\"node\">\n",
       "<title>14</title>\n",
       "<polygon fill=\"#399de5\" fill-opacity=\"0.498039\" stroke=\"#000000\" points=\"854.7981,-250 667.4148,-250 667.4148,-186 854.7981,-186 854.7981,-250\"/>\n",
       "<text text-anchor=\"middle\" x=\"761.1064\" y=\"-234.8\" font-family=\"Times,serif\" font-size=\"14.00\" fill=\"#000000\">mean concave points &lt;= 0.051</text>\n",
       "<text text-anchor=\"middle\" x=\"761.1064\" y=\"-220.8\" font-family=\"Times,serif\" font-size=\"14.00\" fill=\"#000000\">samples = 3</text>\n",
       "<text text-anchor=\"middle\" x=\"761.1064\" y=\"-206.8\" font-family=\"Times,serif\" font-size=\"14.00\" fill=\"#000000\">value = [1, 2]</text>\n",
       "<text text-anchor=\"middle\" x=\"761.1064\" y=\"-192.8\" font-family=\"Times,serif\" font-size=\"14.00\" fill=\"#000000\">class = benign</text>\n",
       "</g>\n",
       "<!-- 13&#45;&gt;14 -->\n",
       "<g id=\"edge14\" class=\"edge\">\n",
       "<title>13&#45;&gt;14</title>\n",
       "<path fill=\"none\" stroke=\"#000000\" d=\"M793.6547,-285.8089C789.5866,-277.3337 785.1416,-268.0733 780.8802,-259.1952\"/>\n",
       "<polygon fill=\"#000000\" stroke=\"#000000\" points=\"784.0119,-257.6314 776.5292,-250.1308 777.7012,-260.6606 784.0119,-257.6314\"/>\n",
       "</g>\n",
       "<!-- 17 -->\n",
       "<g id=\"node18\" class=\"node\">\n",
       "<title>17</title>\n",
       "<polygon fill=\"#e58139\" stroke=\"#000000\" points=\"987.2022,-243 873.0107,-243 873.0107,-193 987.2022,-193 987.2022,-243\"/>\n",
       "<text text-anchor=\"middle\" x=\"930.1064\" y=\"-227.8\" font-family=\"Times,serif\" font-size=\"14.00\" fill=\"#000000\">samples = 12</text>\n",
       "<text text-anchor=\"middle\" x=\"930.1064\" y=\"-213.8\" font-family=\"Times,serif\" font-size=\"14.00\" fill=\"#000000\">value = [12, 0]</text>\n",
       "<text text-anchor=\"middle\" x=\"930.1064\" y=\"-199.8\" font-family=\"Times,serif\" font-size=\"14.00\" fill=\"#000000\">class = malignant</text>\n",
       "</g>\n",
       "<!-- 13&#45;&gt;17 -->\n",
       "<g id=\"edge17\" class=\"edge\">\n",
       "<title>13&#45;&gt;17</title>\n",
       "<path fill=\"none\" stroke=\"#000000\" d=\"M848.0576,-285.8089C862.0336,-274.2586 877.7743,-261.2497 891.7034,-249.7381\"/>\n",
       "<polygon fill=\"#000000\" stroke=\"#000000\" points=\"894.1896,-252.2239 899.6682,-243.1555 889.7303,-246.8281 894.1896,-252.2239\"/>\n",
       "</g>\n",
       "<!-- 15 -->\n",
       "<g id=\"node16\" class=\"node\">\n",
       "<title>15</title>\n",
       "<polygon fill=\"#399de5\" stroke=\"#000000\" points=\"809.3196,-143 712.8933,-143 712.8933,-93 809.3196,-93 809.3196,-143\"/>\n",
       "<text text-anchor=\"middle\" x=\"761.1064\" y=\"-127.8\" font-family=\"Times,serif\" font-size=\"14.00\" fill=\"#000000\">samples = 2</text>\n",
       "<text text-anchor=\"middle\" x=\"761.1064\" y=\"-113.8\" font-family=\"Times,serif\" font-size=\"14.00\" fill=\"#000000\">value = [0, 2]</text>\n",
       "<text text-anchor=\"middle\" x=\"761.1064\" y=\"-99.8\" font-family=\"Times,serif\" font-size=\"14.00\" fill=\"#000000\">class = benign</text>\n",
       "</g>\n",
       "<!-- 14&#45;&gt;15 -->\n",
       "<g id=\"edge15\" class=\"edge\">\n",
       "<title>14&#45;&gt;15</title>\n",
       "<path fill=\"none\" stroke=\"#000000\" d=\"M761.1064,-185.8089C761.1064,-175.446 761.1064,-163.909 761.1064,-153.3327\"/>\n",
       "<polygon fill=\"#000000\" stroke=\"#000000\" points=\"764.6065,-153.1555 761.1064,-143.1555 757.6065,-153.1556 764.6065,-153.1555\"/>\n",
       "</g>\n",
       "<!-- 16 -->\n",
       "<g id=\"node17\" class=\"node\">\n",
       "<title>16</title>\n",
       "<polygon fill=\"#e58139\" stroke=\"#000000\" points=\"941.2022,-143 827.0107,-143 827.0107,-93 941.2022,-93 941.2022,-143\"/>\n",
       "<text text-anchor=\"middle\" x=\"884.1064\" y=\"-127.8\" font-family=\"Times,serif\" font-size=\"14.00\" fill=\"#000000\">samples = 1</text>\n",
       "<text text-anchor=\"middle\" x=\"884.1064\" y=\"-113.8\" font-family=\"Times,serif\" font-size=\"14.00\" fill=\"#000000\">value = [1, 0]</text>\n",
       "<text text-anchor=\"middle\" x=\"884.1064\" y=\"-99.8\" font-family=\"Times,serif\" font-size=\"14.00\" fill=\"#000000\">class = malignant</text>\n",
       "</g>\n",
       "<!-- 14&#45;&gt;16 -->\n",
       "<g id=\"edge16\" class=\"edge\">\n",
       "<title>14&#45;&gt;16</title>\n",
       "<path fill=\"none\" stroke=\"#000000\" d=\"M800.7015,-185.8089C814.9084,-174.2586 830.9093,-161.2497 845.0686,-149.7381\"/>\n",
       "<polygon fill=\"#000000\" stroke=\"#000000\" points=\"847.6138,-152.1796 853.1651,-143.1555 843.198,-146.7481 847.6138,-152.1796\"/>\n",
       "</g>\n",
       "<!-- 19 -->\n",
       "<g id=\"node20\" class=\"node\">\n",
       "<title>19</title>\n",
       "<polygon fill=\"#399de5\" fill-opacity=\"0.600000\" stroke=\"#000000\" points=\"1164.3771,-350 1013.8358,-350 1013.8358,-286 1164.3771,-286 1164.3771,-350\"/>\n",
       "<text text-anchor=\"middle\" x=\"1089.1064\" y=\"-334.8\" font-family=\"Times,serif\" font-size=\"14.00\" fill=\"#000000\">worst texture &lt;= 27.525</text>\n",
       "<text text-anchor=\"middle\" x=\"1089.1064\" y=\"-320.8\" font-family=\"Times,serif\" font-size=\"14.00\" fill=\"#000000\">samples = 7</text>\n",
       "<text text-anchor=\"middle\" x=\"1089.1064\" y=\"-306.8\" font-family=\"Times,serif\" font-size=\"14.00\" fill=\"#000000\">value = [2, 5]</text>\n",
       "<text text-anchor=\"middle\" x=\"1089.1064\" y=\"-292.8\" font-family=\"Times,serif\" font-size=\"14.00\" fill=\"#000000\">class = benign</text>\n",
       "</g>\n",
       "<!-- 18&#45;&gt;19 -->\n",
       "<g id=\"edge19\" class=\"edge\">\n",
       "<title>18&#45;&gt;19</title>\n",
       "<path fill=\"none\" stroke=\"#000000\" d=\"M1089.1064,-385.8089C1089.1064,-377.6906 1089.1064,-368.8517 1089.1064,-360.3186\"/>\n",
       "<polygon fill=\"#000000\" stroke=\"#000000\" points=\"1092.6065,-360.1307 1089.1064,-350.1308 1085.6065,-360.1308 1092.6065,-360.1307\"/>\n",
       "</g>\n",
       "<!-- 22 -->\n",
       "<g id=\"node23\" class=\"node\">\n",
       "<title>22</title>\n",
       "<polygon fill=\"#e58139\" fill-opacity=\"0.964706\" stroke=\"#000000\" points=\"1378.1364,-350 1220.0765,-350 1220.0765,-286 1378.1364,-286 1378.1364,-350\"/>\n",
       "<text text-anchor=\"middle\" x=\"1299.1064\" y=\"-334.8\" font-family=\"Times,serif\" font-size=\"14.00\" fill=\"#000000\">mean concavity &lt;= 0.065</text>\n",
       "<text text-anchor=\"middle\" x=\"1299.1064\" y=\"-320.8\" font-family=\"Times,serif\" font-size=\"14.00\" fill=\"#000000\">samples = 144</text>\n",
       "<text text-anchor=\"middle\" x=\"1299.1064\" y=\"-306.8\" font-family=\"Times,serif\" font-size=\"14.00\" fill=\"#000000\">value = [139, 5]</text>\n",
       "<text text-anchor=\"middle\" x=\"1299.1064\" y=\"-292.8\" font-family=\"Times,serif\" font-size=\"14.00\" fill=\"#000000\">class = malignant</text>\n",
       "</g>\n",
       "<!-- 18&#45;&gt;22 -->\n",
       "<g id=\"edge22\" class=\"edge\">\n",
       "<title>18&#45;&gt;22</title>\n",
       "<path fill=\"none\" stroke=\"#000000\" d=\"M1151.261,-388.4026C1173.5763,-377.7762 1199.0081,-365.6659 1222.4122,-354.5211\"/>\n",
       "<polygon fill=\"#000000\" stroke=\"#000000\" points=\"1224.0894,-357.5991 1231.6132,-350.1396 1221.0798,-351.279 1224.0894,-357.5991\"/>\n",
       "</g>\n",
       "<!-- 20 -->\n",
       "<g id=\"node21\" class=\"node\">\n",
       "<title>20</title>\n",
       "<polygon fill=\"#399de5\" stroke=\"#000000\" points=\"1101.3196,-243 1004.8933,-243 1004.8933,-193 1101.3196,-193 1101.3196,-243\"/>\n",
       "<text text-anchor=\"middle\" x=\"1053.1064\" y=\"-227.8\" font-family=\"Times,serif\" font-size=\"14.00\" fill=\"#000000\">samples = 5</text>\n",
       "<text text-anchor=\"middle\" x=\"1053.1064\" y=\"-213.8\" font-family=\"Times,serif\" font-size=\"14.00\" fill=\"#000000\">value = [0, 5]</text>\n",
       "<text text-anchor=\"middle\" x=\"1053.1064\" y=\"-199.8\" font-family=\"Times,serif\" font-size=\"14.00\" fill=\"#000000\">class = benign</text>\n",
       "</g>\n",
       "<!-- 19&#45;&gt;20 -->\n",
       "<g id=\"edge20\" class=\"edge\">\n",
       "<title>19&#45;&gt;20</title>\n",
       "<path fill=\"none\" stroke=\"#000000\" d=\"M1077.5177,-285.8089C1073.7093,-275.2301 1069.4605,-263.4278 1065.5887,-252.6729\"/>\n",
       "<polygon fill=\"#000000\" stroke=\"#000000\" points=\"1068.8428,-251.3789 1062.1624,-243.1555 1062.2566,-253.75 1068.8428,-251.3789\"/>\n",
       "</g>\n",
       "<!-- 21 -->\n",
       "<g id=\"node22\" class=\"node\">\n",
       "<title>21</title>\n",
       "<polygon fill=\"#e58139\" stroke=\"#000000\" points=\"1233.2022,-243 1119.0107,-243 1119.0107,-193 1233.2022,-193 1233.2022,-243\"/>\n",
       "<text text-anchor=\"middle\" x=\"1176.1064\" y=\"-227.8\" font-family=\"Times,serif\" font-size=\"14.00\" fill=\"#000000\">samples = 2</text>\n",
       "<text text-anchor=\"middle\" x=\"1176.1064\" y=\"-213.8\" font-family=\"Times,serif\" font-size=\"14.00\" fill=\"#000000\">value = [2, 0]</text>\n",
       "<text text-anchor=\"middle\" x=\"1176.1064\" y=\"-199.8\" font-family=\"Times,serif\" font-size=\"14.00\" fill=\"#000000\">class = malignant</text>\n",
       "</g>\n",
       "<!-- 19&#45;&gt;21 -->\n",
       "<g id=\"edge21\" class=\"edge\">\n",
       "<title>19&#45;&gt;21</title>\n",
       "<path fill=\"none\" stroke=\"#000000\" d=\"M1117.1127,-285.8089C1126.8797,-274.5824 1137.8455,-261.978 1147.6489,-250.7098\"/>\n",
       "<polygon fill=\"#000000\" stroke=\"#000000\" points=\"1150.298,-252.9973 1154.2211,-243.1555 1145.0169,-248.4027 1150.298,-252.9973\"/>\n",
       "</g>\n",
       "<!-- 23 -->\n",
       "<g id=\"node24\" class=\"node\">\n",
       "<title>23</title>\n",
       "<polygon fill=\"#399de5\" stroke=\"#000000\" points=\"1347.3196,-243 1250.8933,-243 1250.8933,-193 1347.3196,-193 1347.3196,-243\"/>\n",
       "<text text-anchor=\"middle\" x=\"1299.1064\" y=\"-227.8\" font-family=\"Times,serif\" font-size=\"14.00\" fill=\"#000000\">samples = 2</text>\n",
       "<text text-anchor=\"middle\" x=\"1299.1064\" y=\"-213.8\" font-family=\"Times,serif\" font-size=\"14.00\" fill=\"#000000\">value = [0, 2]</text>\n",
       "<text text-anchor=\"middle\" x=\"1299.1064\" y=\"-199.8\" font-family=\"Times,serif\" font-size=\"14.00\" fill=\"#000000\">class = benign</text>\n",
       "</g>\n",
       "<!-- 22&#45;&gt;23 -->\n",
       "<g id=\"edge23\" class=\"edge\">\n",
       "<title>22&#45;&gt;23</title>\n",
       "<path fill=\"none\" stroke=\"#000000\" d=\"M1299.1064,-285.8089C1299.1064,-275.446 1299.1064,-263.909 1299.1064,-253.3327\"/>\n",
       "<polygon fill=\"#000000\" stroke=\"#000000\" points=\"1302.6065,-253.1555 1299.1064,-243.1555 1295.6065,-253.1556 1302.6065,-253.1555\"/>\n",
       "</g>\n",
       "<!-- 24 -->\n",
       "<g id=\"node25\" class=\"node\">\n",
       "<title>24</title>\n",
       "<polygon fill=\"#e58139\" fill-opacity=\"0.976471\" stroke=\"#000000\" points=\"1521.0191,-250 1365.1938,-250 1365.1938,-186 1521.0191,-186 1521.0191,-250\"/>\n",
       "<text text-anchor=\"middle\" x=\"1443.1064\" y=\"-234.8\" font-family=\"Times,serif\" font-size=\"14.00\" fill=\"#000000\">concavity error &lt;= 0.136</text>\n",
       "<text text-anchor=\"middle\" x=\"1443.1064\" y=\"-220.8\" font-family=\"Times,serif\" font-size=\"14.00\" fill=\"#000000\">samples = 142</text>\n",
       "<text text-anchor=\"middle\" x=\"1443.1064\" y=\"-206.8\" font-family=\"Times,serif\" font-size=\"14.00\" fill=\"#000000\">value = [139, 3]</text>\n",
       "<text text-anchor=\"middle\" x=\"1443.1064\" y=\"-192.8\" font-family=\"Times,serif\" font-size=\"14.00\" fill=\"#000000\">class = malignant</text>\n",
       "</g>\n",
       "<!-- 22&#45;&gt;24 -->\n",
       "<g id=\"edge24\" class=\"edge\">\n",
       "<title>22&#45;&gt;24</title>\n",
       "<path fill=\"none\" stroke=\"#000000\" d=\"M1345.4616,-285.8089C1359.2075,-276.2632 1374.3878,-265.7213 1388.6002,-255.8516\"/>\n",
       "<polygon fill=\"#000000\" stroke=\"#000000\" points=\"1390.6208,-258.7096 1396.8382,-250.1308 1386.628,-252.96 1390.6208,-258.7096\"/>\n",
       "</g>\n",
       "<!-- 25 -->\n",
       "<g id=\"node26\" class=\"node\">\n",
       "<title>25</title>\n",
       "<polygon fill=\"#e58139\" fill-opacity=\"0.992157\" stroke=\"#000000\" points=\"1443.8117,-150 1308.4012,-150 1308.4012,-86 1443.8117,-86 1443.8117,-150\"/>\n",
       "<text text-anchor=\"middle\" x=\"1376.1064\" y=\"-134.8\" font-family=\"Times,serif\" font-size=\"14.00\" fill=\"#000000\">radius error &lt;= 0.241</text>\n",
       "<text text-anchor=\"middle\" x=\"1376.1064\" y=\"-120.8\" font-family=\"Times,serif\" font-size=\"14.00\" fill=\"#000000\">samples = 140</text>\n",
       "<text text-anchor=\"middle\" x=\"1376.1064\" y=\"-106.8\" font-family=\"Times,serif\" font-size=\"14.00\" fill=\"#000000\">value = [139, 1]</text>\n",
       "<text text-anchor=\"middle\" x=\"1376.1064\" y=\"-92.8\" font-family=\"Times,serif\" font-size=\"14.00\" fill=\"#000000\">class = malignant</text>\n",
       "</g>\n",
       "<!-- 24&#45;&gt;25 -->\n",
       "<g id=\"edge25\" class=\"edge\">\n",
       "<title>24&#45;&gt;25</title>\n",
       "<path fill=\"none\" stroke=\"#000000\" d=\"M1421.5384,-185.8089C1415.7405,-177.1553 1409.3941,-167.683 1403.3319,-158.635\"/>\n",
       "<polygon fill=\"#000000\" stroke=\"#000000\" points=\"1406.108,-156.4903 1397.6341,-150.1308 1400.2926,-160.3866 1406.108,-156.4903\"/>\n",
       "</g>\n",
       "<!-- 28 -->\n",
       "<g id=\"node29\" class=\"node\">\n",
       "<title>28</title>\n",
       "<polygon fill=\"#399de5\" stroke=\"#000000\" points=\"1558.3196,-143 1461.8933,-143 1461.8933,-93 1558.3196,-93 1558.3196,-143\"/>\n",
       "<text text-anchor=\"middle\" x=\"1510.1064\" y=\"-127.8\" font-family=\"Times,serif\" font-size=\"14.00\" fill=\"#000000\">samples = 2</text>\n",
       "<text text-anchor=\"middle\" x=\"1510.1064\" y=\"-113.8\" font-family=\"Times,serif\" font-size=\"14.00\" fill=\"#000000\">value = [0, 2]</text>\n",
       "<text text-anchor=\"middle\" x=\"1510.1064\" y=\"-99.8\" font-family=\"Times,serif\" font-size=\"14.00\" fill=\"#000000\">class = benign</text>\n",
       "</g>\n",
       "<!-- 24&#45;&gt;28 -->\n",
       "<g id=\"edge28\" class=\"edge\">\n",
       "<title>24&#45;&gt;28</title>\n",
       "<path fill=\"none\" stroke=\"#000000\" d=\"M1464.6745,-185.8089C1471.9793,-174.9063 1480.1547,-162.7041 1487.5353,-151.6882\"/>\n",
       "<polygon fill=\"#000000\" stroke=\"#000000\" points=\"1490.5937,-153.4114 1493.2522,-143.1555 1484.7783,-149.5151 1490.5937,-153.4114\"/>\n",
       "</g>\n",
       "<!-- 26 -->\n",
       "<g id=\"node27\" class=\"node\">\n",
       "<title>26</title>\n",
       "<polygon fill=\"#e58139\" fill-opacity=\"0.749020\" stroke=\"#000000\" points=\"1367.2022,-50 1253.0107,-50 1253.0107,0 1367.2022,0 1367.2022,-50\"/>\n",
       "<text text-anchor=\"middle\" x=\"1310.1064\" y=\"-34.8\" font-family=\"Times,serif\" font-size=\"14.00\" fill=\"#000000\">samples = 5</text>\n",
       "<text text-anchor=\"middle\" x=\"1310.1064\" y=\"-20.8\" font-family=\"Times,serif\" font-size=\"14.00\" fill=\"#000000\">value = [4, 1]</text>\n",
       "<text text-anchor=\"middle\" x=\"1310.1064\" y=\"-6.8\" font-family=\"Times,serif\" font-size=\"14.00\" fill=\"#000000\">class = malignant</text>\n",
       "</g>\n",
       "<!-- 25&#45;&gt;26 -->\n",
       "<g id=\"edge26\" class=\"edge\">\n",
       "<title>25&#45;&gt;26</title>\n",
       "<path fill=\"none\" stroke=\"#000000\" d=\"M1353.393,-85.9947C1347.0634,-77.0756 1340.1727,-67.3661 1333.7888,-58.3706\"/>\n",
       "<polygon fill=\"#000000\" stroke=\"#000000\" points=\"1336.5001,-56.1435 1327.8583,-50.014 1330.7916,-60.1947 1336.5001,-56.1435\"/>\n",
       "</g>\n",
       "<!-- 27 -->\n",
       "<g id=\"node28\" class=\"node\">\n",
       "<title>27</title>\n",
       "<polygon fill=\"#e58139\" stroke=\"#000000\" points=\"1499.2022,-50 1385.0107,-50 1385.0107,0 1499.2022,0 1499.2022,-50\"/>\n",
       "<text text-anchor=\"middle\" x=\"1442.1064\" y=\"-34.8\" font-family=\"Times,serif\" font-size=\"14.00\" fill=\"#000000\">samples = 135</text>\n",
       "<text text-anchor=\"middle\" x=\"1442.1064\" y=\"-20.8\" font-family=\"Times,serif\" font-size=\"14.00\" fill=\"#000000\">value = [135, 0]</text>\n",
       "<text text-anchor=\"middle\" x=\"1442.1064\" y=\"-6.8\" font-family=\"Times,serif\" font-size=\"14.00\" fill=\"#000000\">class = malignant</text>\n",
       "</g>\n",
       "<!-- 25&#45;&gt;27 -->\n",
       "<g id=\"edge27\" class=\"edge\">\n",
       "<title>25&#45;&gt;27</title>\n",
       "<path fill=\"none\" stroke=\"#000000\" d=\"M1398.8199,-85.9947C1405.1495,-77.0756 1412.0402,-67.3661 1418.424,-58.3706\"/>\n",
       "<polygon fill=\"#000000\" stroke=\"#000000\" points=\"1421.4213,-60.1947 1424.3546,-50.014 1415.7128,-56.1435 1421.4213,-60.1947\"/>\n",
       "</g>\n",
       "</g>\n",
       "</svg>\n"
      ],
      "text/plain": [
       "<graphviz.files.Source at 0x1c1ed3de10>"
      ]
     },
     "execution_count": 19,
     "metadata": {},
     "output_type": "execute_result"
    }
   ],
   "source": [
    "with open('tree.dot') as f:\n",
    "    dot_graph = f.read()\n",
    "graphviz.Source(dot_graph)"
   ]
  },
  {
   "cell_type": "markdown",
   "metadata": {},
   "source": [
    "##### Interpretation\n",
    "- `samples`: サンプルの個数\n",
    "- `value`: クラスごとのサンプルの個数\n",
    "\n",
    "#### 2.3.5.4 決定木の特徴量の重要性"
   ]
  },
  {
   "cell_type": "code",
   "execution_count": 23,
   "metadata": {},
   "outputs": [
    {
     "name": "stdout",
     "output_type": "stream",
     "text": [
      "[0.    0.    0.    0.    0.    0.017 0.021 0.015 0.    0.    0.002 0.\n",
      " 0.    0.044 0.    0.    0.02  0.    0.    0.001 0.    0.015 0.    0.104\n",
      " 0.    0.    0.    0.75  0.    0.011]\n"
     ]
    }
   ],
   "source": [
    "print(tree.feature_importances_)"
   ]
  },
  {
   "cell_type": "code",
   "execution_count": 26,
   "metadata": {},
   "outputs": [],
   "source": [
    "def plot_feature_importances_cancer(model):\n",
    "    n_features = cancer.data.shape[1]\n",
    "    plt.barh(range(n_features), model.feature_importances_, align='center')\n",
    "    plt.yticks(np.arange(n_features), cancer.feature_names)\n",
    "    plt.xlabel('feature importance')\n",
    "    plt.ylabel('feature')"
   ]
  },
  {
   "cell_type": "code",
   "execution_count": 27,
   "metadata": {},
   "outputs": [
    {
     "data": {
      "image/png": "[encoded data removed]",
      "text/plain": [
       "<Figure size 432x288 with 1 Axes>"
      ]
     },
     "metadata": {},
     "output_type": "display_data"
    }
   ],
   "source": [
    "plot_feature_importances_cancer(tree)"
   ]
  },
  {
   "cell_type": "markdown",
   "metadata": {},
   "source": [
    "特徴量とクラスの関係"
   ]
  },
  {
   "cell_type": "code",
   "execution_count": 28,
   "metadata": {},
   "outputs": [
    {
     "name": "stdout",
     "output_type": "stream",
     "text": [
      "Feature importances: [0. 1.]\n"
     ]
    },
    {
     "data": {
      "image/svg+xml": [
       "<?xml version=\"1.0\" encoding=\"UTF-8\" standalone=\"no\"?>\n",
       "<!DOCTYPE svg PUBLIC \"-//W3C//DTD SVG 1.1//EN\"\n",
       " \"http://www.w3.org/Graphics/SVG/1.1/DTD/svg11.dtd\">\n",
       "<!-- Generated by graphviz version 2.40.1 (20161225.0304)\n",
       " -->\n",
       "<!-- Title: Tree Pages: 1 -->\n",
       "<svg width=\"285pt\" height=\"216pt\"\n",
       " viewBox=\"0.00 0.00 284.54 216.00\" xmlns=\"http://www.w3.org/2000/svg\" xmlns:xlink=\"http://www.w3.org/1999/xlink\">\n",
       "<g id=\"graph0\" class=\"graph\" transform=\"scale(1 1) rotate(0) translate(4 212)\">\n",
       "<title>Tree</title>\n",
       "<polygon fill=\"#ffffff\" stroke=\"transparent\" points=\"-4,4 -4,-212 280.5371,-212 280.5371,4 -4,4\"/>\n",
       "<!-- 0 -->\n",
       "<g id=\"node1\" class=\"node\">\n",
       "<title>0</title>\n",
       "<polygon fill=\"transparent\" stroke=\"#000000\" points=\"161.8067,-208 56.7304,-208 56.7304,-158 161.8067,-158 161.8067,-208\"/>\n",
       "<text text-anchor=\"middle\" x=\"109.2686\" y=\"-192.8\" font-family=\"Times,serif\" font-size=\"14.00\" fill=\"#000000\">X[1] &lt;= &#45;5.814</text>\n",
       "<text text-anchor=\"middle\" x=\"109.2686\" y=\"-178.8\" font-family=\"Times,serif\" font-size=\"14.00\" fill=\"#000000\">samples = 100</text>\n",
       "<text text-anchor=\"middle\" x=\"109.2686\" y=\"-164.8\" font-family=\"Times,serif\" font-size=\"14.00\" fill=\"#000000\">value = [50, 50]</text>\n",
       "</g>\n",
       "<!-- 1 -->\n",
       "<g id=\"node2\" class=\"node\">\n",
       "<title>1</title>\n",
       "<polygon fill=\"#e58139\" stroke=\"#000000\" points=\"98.3067,-115 .2304,-115 .2304,-79 98.3067,-79 98.3067,-115\"/>\n",
       "<text text-anchor=\"middle\" x=\"49.2686\" y=\"-99.8\" font-family=\"Times,serif\" font-size=\"14.00\" fill=\"#000000\">samples = 25</text>\n",
       "<text text-anchor=\"middle\" x=\"49.2686\" y=\"-85.8\" font-family=\"Times,serif\" font-size=\"14.00\" fill=\"#000000\">value = [25, 0]</text>\n",
       "</g>\n",
       "<!-- 0&#45;&gt;1 -->\n",
       "<g id=\"edge1\" class=\"edge\">\n",
       "<title>0&#45;&gt;1</title>\n",
       "<path fill=\"none\" stroke=\"#000000\" d=\"M91.5911,-157.6623C84.063,-146.872 75.2818,-134.2857 67.6757,-123.3835\"/>\n",
       "<polygon fill=\"#000000\" stroke=\"#000000\" points=\"70.4663,-121.2664 61.8739,-115.0677 64.7254,-125.2717 70.4663,-121.2664\"/>\n",
       "<text text-anchor=\"middle\" x=\"57.4908\" y=\"-135.4805\" font-family=\"Times,serif\" font-size=\"14.00\" fill=\"#000000\">True</text>\n",
       "</g>\n",
       "<!-- 2 -->\n",
       "<g id=\"node3\" class=\"node\">\n",
       "<title>2</title>\n",
       "<polygon fill=\"#399de5\" fill-opacity=\"0.498039\" stroke=\"#000000\" points=\"221.8067,-122 116.7304,-122 116.7304,-72 221.8067,-72 221.8067,-122\"/>\n",
       "<text text-anchor=\"middle\" x=\"169.2686\" y=\"-106.8\" font-family=\"Times,serif\" font-size=\"14.00\" fill=\"#000000\">X[1] &lt;= 5.348</text>\n",
       "<text text-anchor=\"middle\" x=\"169.2686\" y=\"-92.8\" font-family=\"Times,serif\" font-size=\"14.00\" fill=\"#000000\">samples = 75</text>\n",
       "<text text-anchor=\"middle\" x=\"169.2686\" y=\"-78.8\" font-family=\"Times,serif\" font-size=\"14.00\" fill=\"#000000\">value = [25, 50]</text>\n",
       "</g>\n",
       "<!-- 0&#45;&gt;2 -->\n",
       "<g id=\"edge2\" class=\"edge\">\n",
       "<title>0&#45;&gt;2</title>\n",
       "<path fill=\"none\" stroke=\"#000000\" d=\"M126.946,-157.6623C132.8662,-149.1767 139.5613,-139.5803 145.8505,-130.5658\"/>\n",
       "<polygon fill=\"#000000\" stroke=\"#000000\" points=\"148.866,-132.3605 151.7174,-122.1566 143.1251,-128.3552 148.866,-132.3605\"/>\n",
       "<text text-anchor=\"middle\" x=\"156.1005\" y=\"-142.5694\" font-family=\"Times,serif\" font-size=\"14.00\" fill=\"#000000\">False</text>\n",
       "</g>\n",
       "<!-- 3 -->\n",
       "<g id=\"node4\" class=\"node\">\n",
       "<title>3</title>\n",
       "<polygon fill=\"#399de5\" stroke=\"#000000\" points=\"159.3067,-36 61.2304,-36 61.2304,0 159.3067,0 159.3067,-36\"/>\n",
       "<text text-anchor=\"middle\" x=\"110.2686\" y=\"-20.8\" font-family=\"Times,serif\" font-size=\"14.00\" fill=\"#000000\">samples = 50</text>\n",
       "<text text-anchor=\"middle\" x=\"110.2686\" y=\"-6.8\" font-family=\"Times,serif\" font-size=\"14.00\" fill=\"#000000\">value = [0, 50]</text>\n",
       "</g>\n",
       "<!-- 2&#45;&gt;3 -->\n",
       "<g id=\"edge3\" class=\"edge\">\n",
       "<title>2&#45;&gt;3</title>\n",
       "<path fill=\"none\" stroke=\"#000000\" d=\"M150.2758,-71.5691C143.7406,-62.8185 136.414,-53.0083 129.834,-44.1978\"/>\n",
       "<polygon fill=\"#000000\" stroke=\"#000000\" points=\"132.5924,-42.042 123.8043,-36.1242 126.9839,-46.2307 132.5924,-42.042\"/>\n",
       "</g>\n",
       "<!-- 4 -->\n",
       "<g id=\"node5\" class=\"node\">\n",
       "<title>4</title>\n",
       "<polygon fill=\"#e58139\" stroke=\"#000000\" points=\"276.3067,-36 178.2304,-36 178.2304,0 276.3067,0 276.3067,-36\"/>\n",
       "<text text-anchor=\"middle\" x=\"227.2686\" y=\"-20.8\" font-family=\"Times,serif\" font-size=\"14.00\" fill=\"#000000\">samples = 25</text>\n",
       "<text text-anchor=\"middle\" x=\"227.2686\" y=\"-6.8\" font-family=\"Times,serif\" font-size=\"14.00\" fill=\"#000000\">value = [25, 0]</text>\n",
       "</g>\n",
       "<!-- 2&#45;&gt;4 -->\n",
       "<g id=\"edge4\" class=\"edge\">\n",
       "<title>2&#45;&gt;4</title>\n",
       "<path fill=\"none\" stroke=\"#000000\" d=\"M187.9394,-71.5691C194.3638,-62.8185 201.5662,-53.0083 208.0347,-44.1978\"/>\n",
       "<polygon fill=\"#000000\" stroke=\"#000000\" points=\"210.8654,-46.2564 213.9622,-36.1242 205.2228,-42.1137 210.8654,-46.2564\"/>\n",
       "</g>\n",
       "</g>\n",
       "</svg>\n"
      ],
      "text/plain": [
       "<graphviz.files.Source at 0x1c1f3abfd0>"
      ]
     },
     "metadata": {},
     "output_type": "display_data"
    },
    {
     "data": {
      "image/png": "[encoded data removed]",
      "text/plain": [
       "<Figure size 432x288 with 1 Axes>"
      ]
     },
     "metadata": {},
     "output_type": "display_data"
    }
   ],
   "source": [
    "tree = mglearn.plots.plot_tree_not_monotone()\n",
    "display(tree)"
   ]
  },
  {
   "cell_type": "markdown",
   "metadata": {},
   "source": [
    "決定木の回帰モデルは外挿ができない"
   ]
  },
  {
   "cell_type": "code",
   "execution_count": 31,
   "metadata": {},
   "outputs": [
    {
     "data": {
      "text/plain": [
       "Text(0,0.5,'price in $/Mbyte')"
      ]
     },
     "execution_count": 31,
     "metadata": {},
     "output_type": "execute_result"
    },
    {
     "data": {
      "image/png": "[encoded data removed]",
      "text/plain": [
       "<Figure size 432x288 with 1 Axes>"
      ]
     },
     "metadata": {},
     "output_type": "display_data"
    }
   ],
   "source": [
    "ram_prices = pd.read_csv(os.path.join(mglearn.datasets.DATA_PATH, 'ram_price.csv'))\n",
    "plt.semilogy(ram_prices.date, ram_prices.price)\n",
    "plt.xlabel('year')\n",
    "plt.ylabel('price in $/Mbyte')"
   ]
  },
  {
   "cell_type": "markdown",
   "metadata": {},
   "source": [
    "2000年までのデータを使ってそれ以降を予測"
   ]
  },
  {
   "cell_type": "code",
   "execution_count": 36,
   "metadata": {},
   "outputs": [],
   "source": [
    "data_train = ram_prices[ram_prices.date < 2000]\n",
    "data_test = ram_prices[ram_prices.date >= 2000]\n",
    "\n",
    "X_train = data_train.date[:, np.newaxis]\n",
    "y_train = np.log(data_train.price)\n",
    "\n",
    "tree = DecisionTreeRegressor().fit(X_train, y_train)\n",
    "linear_reg = LinearRegression().fit(X_train, y_train)\n",
    "\n",
    "X_all = ram_prices.date[:, np.newaxis]\n",
    "\n",
    "pred_tree = tree.predict(X_all)\n",
    "pred_lr = linear_reg.predict(X_all)\n",
    "\n",
    "# 対数変換をもとに戻す\n",
    "price_tree = np.exp(pred_tree)\n",
    "price_lr = np.exp(pred_lr)"
   ]
  },
  {
   "cell_type": "code",
   "execution_count": 38,
   "metadata": {},
   "outputs": [
    {
     "data": {
      "text/plain": [
       "<matplotlib.legend.Legend at 0x1c2201fcf8>"
      ]
     },
     "execution_count": 38,
     "metadata": {},
     "output_type": "execute_result"
    },
    {
     "data": {
      "image/png": "[encoded data removed]",
      "text/plain": [
       "<Figure size 432x288 with 1 Axes>"
      ]
     },
     "metadata": {},
     "output_type": "display_data"
    }
   ],
   "source": [
    "plt.semilogy(data_train.date, data_train.price, label=\"train data\")\n",
    "plt.semilogy(data_test.date, data_test.price, label=\"test data\")            \n",
    "plt.semilogy(ram_prices.date, price_tree, label=\"tree pred\")            \n",
    "plt.semilogy(ram_prices.date, price_lr, label=\"linear pred\")            \n",
    "plt.legend()"
   ]
  },
  {
   "cell_type": "markdown",
   "metadata": {},
   "source": [
    "##### Interpretation\n",
    "- 決定木\n",
    "    - 学習データに完全に適合\n",
    "    - 学習データにない領域は, 学習データの最後の予測と同じものを出力\n",
    "- 線形モデル\n",
    "    - 直線で近似"
   ]
  },
  {
   "cell_type": "code",
   "execution_count": null,
   "metadata": {},
   "outputs": [],
   "source": []
  },
  {
   "cell_type": "code",
   "execution_count": null,
   "metadata": {},
   "outputs": [],
   "source": []
  },
  {
   "cell_type": "code",
   "execution_count": null,
   "metadata": {},
   "outputs": [],
   "source": []
  },
  {
   "cell_type": "code",
   "execution_count": null,
   "metadata": {},
   "outputs": [],
   "source": []
  }
 ],
 "metadata": {
  "kernelspec": {
   "display_name": "Python 3",
   "language": "python",
   "name": "python3"
  },
  "language_info": {
   "codemirror_mode": {
    "name": "ipython",
    "version": 3
   },
   "file_extension": ".py",
   "mimetype": "text/x-python",
   "name": "python",
   "nbconvert_exporter": "python",
   "pygments_lexer": "ipython3",
   "version": "3.6.5"
  }
 },
 "nbformat": 4,
 "nbformat_minor": 2
}
